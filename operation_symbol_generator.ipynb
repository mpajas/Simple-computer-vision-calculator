{
 "cells": [
  {
   "cell_type": "code",
   "execution_count": 1,
   "metadata": {},
   "outputs": [],
   "source": [
    "from matplotlib import image\n",
    "from skimage import util\n",
    "import os\n",
    "from skimage.color import rgb2gray\n",
    "import numpy as np\n",
    "\n",
    "import matplotlib.pyplot as plt\n",
    "import matplotlib\n",
    "import seaborn as sns\n",
    "sns.set(style=\"white\")"
   ]
  },
  {
   "cell_type": "code",
   "execution_count": 2,
   "metadata": {},
   "outputs": [],
   "source": [
    "def draw_symbols(symbols):\n",
    "    n = len(symbols)\n",
    "    fig, ax = plt.subplots(nrows=1, ncols=n, figsize=(n,1), sharex=\"all\", sharey=\"all\")\n",
    "    \n",
    "    for i,s in enumerate(symbols):\n",
    "        ax[i].imshow(s.reshape(28,28), cmap = matplotlib.cm.binary, interpolation=\"nearest\")\n",
    "    \n",
    "    for a in ax:\n",
    "        a.axis(\"off\")"
   ]
  },
  {
   "cell_type": "code",
   "execution_count": 3,
   "metadata": {},
   "outputs": [],
   "source": [
    "plusevi = []\n",
    "for photo in os.listdir(\"Slike/Plus\"):\n",
    "    plusevi.append(image.imread(\"Slike/Plus/\"+photo))\n",
    "    \n",
    "plusevi = np.array(plusevi)\n",
    "plusevi = util.invert(rgb2gray(plusevi))"
   ]
  },
  {
   "cell_type": "code",
   "execution_count": 4,
   "metadata": {},
   "outputs": [],
   "source": [
    "minusi = []\n",
    "for photo in os.listdir(\"Slike/Minus\"):\n",
    "    minusi.append(image.imread(\"Slike/Minus/\"+photo))\n",
    "    \n",
    "minusi = np.array(minusi)\n",
    "minusi = util.invert(rgb2gray(minusi))"
   ]
  },
  {
   "cell_type": "code",
   "execution_count": 5,
   "metadata": {},
   "outputs": [],
   "source": [
    "puta = []\n",
    "for photo in os.listdir(\"Slike/Puta\"):\n",
    "    puta.append(image.imread(\"Slike/Puta/\"+photo))\n",
    "    \n",
    "puta = np.array(puta)\n",
    "puta = util.invert(rgb2gray(puta))"
   ]
  },
  {
   "cell_type": "code",
   "execution_count": 6,
   "metadata": {},
   "outputs": [],
   "source": [
    "dijeljeno = []\n",
    "for photo in os.listdir(\"Slike/Dijeljeno\"):\n",
    "    dijeljeno.append(image.imread(\"Slike/Dijeljeno/\"+photo))\n",
    "    \n",
    "dijeljeno = np.array(dijeljeno)\n",
    "dijeljeno = util.invert(rgb2gray(dijeljeno))"
   ]
  },
  {
   "cell_type": "code",
   "execution_count": 7,
   "metadata": {},
   "outputs": [
    {
     "data": {
      "image/png": "[encoded data removed]",
      "text/plain": [
       "<Figure size 432x72 with 6 Axes>"
      ]
     },
     "metadata": {},
     "output_type": "display_data"
    },
    {
     "data": {
      "image/png": "[encoded data removed]",
      "text/plain": [
       "<Figure size 432x72 with 6 Axes>"
      ]
     },
     "metadata": {},
     "output_type": "display_data"
    },
    {
     "data": {
      "image/png": "[encoded data removed]",
      "text/plain": [
       "<Figure size 432x72 with 6 Axes>"
      ]
     },
     "metadata": {},
     "output_type": "display_data"
    },
    {
     "data": {
      "image/png": "[encoded data removed]",
      "text/plain": [
       "<Figure size 432x72 with 6 Axes>"
      ]
     },
     "metadata": {},
     "output_type": "display_data"
    }
   ],
   "source": [
    "draw_symbols(plusevi)\n",
    "draw_symbols(minusi)\n",
    "draw_symbols(puta)\n",
    "draw_symbols(dijeljeno)"
   ]
  },
  {
   "cell_type": "code",
   "execution_count": 8,
   "metadata": {},
   "outputs": [],
   "source": [
    "from scipy.ndimage.interpolation import rotate\n",
    "from scipy.ndimage.interpolation import shift\n",
    "from skimage.filters import threshold_mean"
   ]
  },
  {
   "cell_type": "code",
   "execution_count": 9,
   "metadata": {},
   "outputs": [],
   "source": [
    "def generate_symbols(symbols):\n",
    "    rotated = []\n",
    "    for s in symbols:\n",
    "        for i in range(-5,5):\n",
    "            rotated.append(rotate(s,i, reshape=False))\n",
    "    rotated = np.array(rotated)\n",
    "\n",
    "    thresh = threshold_mean(rotated)\n",
    "    rotated = rotated > thresh\n",
    "\n",
    "    translated = []\n",
    "    for s in symbols:\n",
    "        for i in range(-2,2):\n",
    "            for j in range(-2,2):\n",
    "                translated.append(shift(s, [i,j], cval=0))\n",
    "    translated = np.array(translated)\n",
    "\n",
    "    combined = []\n",
    "    for s in rotated:\n",
    "        for i in range(-2,2):\n",
    "            for j in range(-2,2):\n",
    "                combined.append(shift(s, [i,j], cval=0))\n",
    "    combined = np.array(combined)\n",
    "\n",
    "    rotated = rotated.reshape(len(rotated),28*28)\n",
    "    translated = translated.reshape(len(translated),28*28)\n",
    "    combined = combined.reshape(len(combined),28*28)\n",
    "    #draw_symbols(rotirani)\n",
    "    #draw_symbols(translatirani)\n",
    "    generated_symbols = np.append(rotated,translated, axis=0)\n",
    "    generated_symbols = np.append(generated_symbols,combined, axis=0)\n",
    "    return generated_symbols"
   ]
  },
  {
   "cell_type": "code",
   "execution_count": 10,
   "metadata": {},
   "outputs": [],
   "source": [
    "gen_plus = generate_symbols(plusevi)\n",
    "gen_minus = generate_symbols(minusi)\n",
    "gen_puta = generate_symbols(puta)\n",
    "gen_dijeljeno = generate_symbols(dijeljeno)"
   ]
  },
  {
   "cell_type": "code",
   "execution_count": 11,
   "metadata": {},
   "outputs": [
    {
     "data": {
      "image/png": "[encoded data removed]",
      "text/plain": [
       "<Figure size 2160x72 with 30 Axes>"
      ]
     },
     "metadata": {},
     "output_type": "display_data"
    },
    {
     "data": {
      "image/png": "[encoded data removed]",
      "text/plain": [
       "<Figure size 2160x72 with 30 Axes>"
      ]
     },
     "metadata": {},
     "output_type": "display_data"
    },
    {
     "data": {
      "image/png": "[encoded data removed]",
      "text/plain": [
       "<Figure size 2160x72 with 30 Axes>"
      ]
     },
     "metadata": {},
     "output_type": "display_data"
    },
    {
     "data": {
      "image/png": "[encoded data removed]",
      "text/plain": [
       "<Figure size 2160x72 with 30 Axes>"
      ]
     },
     "metadata": {},
     "output_type": "display_data"
    }
   ],
   "source": [
    "draw_symbols(gen_plus[450:480])\n",
    "draw_symbols(gen_minus[450:480])\n",
    "draw_symbols(gen_puta[450:480])\n",
    "draw_symbols(gen_dijeljeno[450:480])"
   ]
  },
  {
   "cell_type": "code",
   "execution_count": 12,
   "metadata": {},
   "outputs": [],
   "source": [
    "y_plus = np.array([[0,0,0,0,0,0,0,0,0,0,1,0,0,0]]*len(gen_plus))\n",
    "y_minus = np.array([[0,0,0,0,0,0,0,0,0,0,0,1,0,0]]*len(gen_minus))\n",
    "y_puta = np.array([[0,0,0,0,0,0,0,0,0,0,0,0,1,0]]*len(gen_puta))\n",
    "y_dijeljeno = np.array([[0,0,0,0,0,0,0,0,0,0,0,0,0,1]]*len(gen_dijeljeno))"
   ]
  },
  {
   "cell_type": "code",
   "execution_count": 13,
   "metadata": {},
   "outputs": [],
   "source": [
    "symbols = np.vstack((gen_plus, gen_minus, gen_puta, gen_dijeljeno))\n",
    "labels = np.vstack((y_plus,y_minus,y_puta,y_dijeljeno))"
   ]
  },
  {
   "cell_type": "code",
   "execution_count": 14,
   "metadata": {},
   "outputs": [
    {
     "data": {
      "text/plain": [
       "['operation_symbols.pkl']"
      ]
     },
     "execution_count": 14,
     "metadata": {},
     "output_type": "execute_result"
    }
   ],
   "source": [
    "data = {\"data\": symbols,\n",
    "        \"target\": labels}\n",
    "\n",
    "import joblib\n",
    "joblib.dump(data, \"operation_symbols.pkl\")"
   ]
  }
 ],
 "metadata": {
  "kernelspec": {
   "display_name": "Python 3",
   "language": "python",
   "name": "python3"
  },
  "language_info": {
   "codemirror_mode": {
    "name": "ipython",
    "version": 3
   },
   "file_extension": ".py",
   "mimetype": "text/x-python",
   "name": "python",
   "nbconvert_exporter": "python",
   "pygments_lexer": "ipython3",
   "version": "3.8.5"
  }
 },
 "nbformat": 4,
 "nbformat_minor": 4
}
